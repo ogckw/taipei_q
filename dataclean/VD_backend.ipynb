{
 "cells": [
  {
   "cell_type": "code",
   "execution_count": 1,
   "metadata": {
    "collapsed": false
   },
   "outputs": [],
   "source": [
    "import requests\n",
    "headers = {\n",
    "'Host':'tms.bote.taipei.gov.tw',\n",
    "'Referer':'http://tms.bote.taipei.gov.tw/ttc2/main.jsp',\n",
    "'User-Agent':'Mozilla/5.0 (Windows NT 6.1; WOW64) AppleWebKit/537.36 (KHTML, like Gecko) Chrome/46.0.2490.80 Safari/537.36',\n",
    "'X-Requested-With':'XMLHttpRequest'\n",
    "}\n",
    "\n",
    "url = 'http://tms.bote.taipei.gov.tw/ttc2/vd.do?action=returnXML&vdKmlSrc=c:/Program%20Files/Apache%20Software%20Foundation/Tomcat%205.5/webapps/ttc2/kml/newVd.kml&_=1446635335037'\n",
    "cre = requests.get(url,headers = headers)\n"
   ]
  },
  {
   "cell_type": "code",
   "execution_count": null,
   "metadata": {
    "collapsed": false,
    "scrolled": true
   },
   "outputs": [],
   "source": [
    "kml2data(res)"
   ]
  },
  {
   "cell_type": "code",
   "execution_count": null,
   "metadata": {
    "collapsed": false
   },
   "outputs": [],
   "source": [
    "data"
   ]
  },
  {
   "cell_type": "code",
   "execution_count": 1,
   "metadata": {
    "collapsed": false
   },
   "outputs": [],
   "source": [
    "\n",
    "import re\n",
    "import pandas as pd\n",
    "def kml2data(res):\n",
    "    rawData=res.text.encode('utf8')\n",
    "    trimHead = re.search(('(.*?@@)(.*)'),rawData)\n",
    "    if trimHead is None:\n",
    "        print rawData\n",
    "        trimHead = expsolve()\n",
    "    googlebye = trimHead.group(2)\n",
    "    ary=[]\n",
    "    dic = {'pk':'','address':'','lon':'','lat':'','carport':'','totalvol':'','avgspeed':''}\n",
    "    #k[0],k[2], k[3], k[4]\n",
    "    for sample in googlebye.split('^^%%'):\n",
    "        k = sample.split('^^')\n",
    "        k1= k[0].split(')')\n",
    "        pk = k1[0][1:]\n",
    "        address = k1[1]\n",
    "        lon = k[3]\n",
    "        lat = k[4]\n",
    "        #print address\n",
    "        #print lon,lat\n",
    "        k2 = k[5].split('<br>')\n",
    "        m = re.search('\\d+',k2[0])\n",
    "        m1 = re.search('\\d+',k2[1])\n",
    "        m2 = re.search('\\d+',k2[2])\n",
    "#         print k2[2]\n",
    "#         print '車道:' + m.group(0)\n",
    "#         print '平均流量:'+ m1.group(0) #k[5].split('<br>')[1]\n",
    "#         print '速度:' + m2.group(0)\n",
    "        dic = {'pk':pk,'address':address,'lon':lon,'lat':lat,'carport':m.group(0),'totalvol':m1.group(0),'avgspeed':m2.group(0)}\n",
    "        ary.append(dic)\n",
    "    data=pd.DataFrame(ary)\n",
    "    return data\n"
   ]
  },
  {
   "cell_type": "code",
   "execution_count": 2,
   "metadata": {
    "collapsed": false
   },
   "outputs": [],
   "source": [
    "def expsolve():\n",
    "    res = requests.get(url,headers = headers)\n",
    "    rawData=res.text.encode('utf8')\n",
    "    trimHead = re.search(('(.*?@@)(.*)'),rawData)\n",
    "    if trimHead is None:\n",
    "        return expsolve()\n",
    "    return trimHead\n"
   ]
  },
  {
   "cell_type": "code",
   "execution_count": null,
   "metadata": {
    "collapsed": false
   },
   "outputs": [],
   "source": [
    "import os\n",
    "import requests\n",
    "import time\n",
    "import datetime\n",
    "import pandas as pd\n",
    "from StringIO import StringIO\n",
    "\n",
    "headers = {\n",
    "        'Host':'tms.bote.taipei.gov.tw',\n",
    "        'Referer':'http://tms.bote.taipei.gov.tw/ttc2/main.jsp',\n",
    "        'User-Agent':'Mozilla/5.0 (Windows NT 6.1; WOW64) AppleWebKit/537.36 (KHTML, like Gecko) Chrome/46.0.2490.80 Safari/537.36',\n",
    "        'X-Requested-With':'XMLHttpRequest'\n",
    "        }\n",
    "old = datetime.datetime.now()\n",
    "#old = datetime.datetime(2015, 11, 5, 13, 10, 35, 192000)\n",
    "new = datetime.datetime.now()\n",
    "#print type((new.date()-old.date()).days)\n",
    "datename = str(new.date())\n",
    "path = 'E:\\\\bitbucket\\\\dataclean\\\\hsu\\\\data\\\\carvol-{}.csv'.format(datename)\n",
    "while True:\n",
    "    try:\n",
    "        url = 'http://tms.bote.taipei.gov.tw/ttc2/vd.do?action=returnXML&vdKmlSrc=c:/Program%20Files/Apache%20Software%20Foundation/Tomcat%205.5/webapps/ttc2/kml/newVd.kml&_=1446635335037'\n",
    "        res = requests.get(url,headers = headers)\n",
    "    except:\n",
    "        print 'internet maybe some problem try again'\n",
    "    #correct time miniute sync\n",
    "    carvol = kml2data(res)\n",
    "    new = datetime.datetime.now()\n",
    "    sleeptime = 300 - (new.second + new.microsecond/1000000.0)\n",
    "    delta = new.date()-old.date()\n",
    "    if delta.days == 1:\n",
    "        datename = str(new.date())\n",
    "        path = 'E:\\\\bitbucket\\\\dataclean\\\\hsu\\\\data\\\\carvol-{}.csv'.format(datename)\n",
    "    if not os.path.exists(path):\n",
    "        with open (path,'w') as f:\n",
    "            f.write('address,avgspeed,carport,lat,lon,pk,totalvol,time\\n')\n",
    "    \n",
    "    #print sleeptime        \n",
    "    carvol['time'] = new\n",
    "    with open(path, 'a') as f:\n",
    "        carvol.to_csv(f,encoding='utf-8',index=False,header=False)\n",
    "    time.sleep(sleeptime)\n",
    "    old = new \n"
   ]
  },
  {
   "cell_type": "code",
   "execution_count": null,
   "metadata": {
    "collapsed": false
   },
   "outputs": [],
   "source": []
  },
  {
   "cell_type": "code",
   "execution_count": null,
   "metadata": {
    "collapsed": false
   },
   "outputs": [],
   "source": []
  },
  {
   "cell_type": "code",
   "execution_count": null,
   "metadata": {
    "collapsed": true
   },
   "outputs": [],
   "source": []
  }
 ],
 "metadata": {
  "kernelspec": {
   "display_name": "Python 2",
   "language": "python",
   "name": "python2"
  },
  "language_info": {
   "codemirror_mode": {
    "name": "ipython",
    "version": 2
   },
   "file_extension": ".py",
   "mimetype": "text/x-python",
   "name": "python",
   "nbconvert_exporter": "python",
   "pygments_lexer": "ipython2",
   "version": "2.7.10"
  }
 },
 "nbformat": 4,
 "nbformat_minor": 0
}
